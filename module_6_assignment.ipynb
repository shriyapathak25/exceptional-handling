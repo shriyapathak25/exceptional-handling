{
  "nbformat": 4,
  "nbformat_minor": 0,
  "metadata": {
    "colab": {
      "provenance": []
    },
    "kernelspec": {
      "name": "python3",
      "display_name": "Python 3"
    },
    "language_info": {
      "name": "python"
    }
  },
  "cells": [
    {
      "cell_type": "markdown",
      "source": [
        "ans 1 Interpreted languages, like Python, are executed line-by-line by an interpreter at runtime. Compiled languages, like C++, are converted to machine code beforehand, resulting in faster execution.\n"
      ],
      "metadata": {
        "id": "QQN9zvotu3cm"
      }
    },
    {
      "cell_type": "markdown",
      "source": [
        "ans 2 Exception handling in Python is a mechanism to handle runtime errors or exceptions, allowing the program to continue execution instead of crashing. It involves try-except blocks to catch and handle exceptions.\n"
      ],
      "metadata": {
        "id": "y_xdFL0Gu81C"
      }
    },
    {
      "cell_type": "markdown",
      "source": [
        "ans 3 The finally block is used to execute code regardless of whether an exception occurred or not. It's typically used for cleanup, such as closing files or releasing resources.\n"
      ],
      "metadata": {
        "id": "K1RAA7cpvMJ7"
      }
    },
    {
      "cell_type": "markdown",
      "source": [
        "ans 4 Logging in Python is a module that allows you to record events or messages during the execution of a program. It provides a flexible framework for logging, including different log levels, handlers, and formatters.\n"
      ],
      "metadata": {
        "id": "A8pHlyGnvWqb"
      }
    },
    {
      "cell_type": "markdown",
      "source": [
        "ans 5 The del method, also known as the destructor, is a special method in Python classes. It's called when an object is about to be destroyed, allowing for cleanup or release of resources"
      ],
      "metadata": {
        "id": "WWWzsW03vbHa"
      }
    },
    {
      "cell_type": "markdown",
      "source": [
        "ans 6 The import statement imports an entire module, while the from ... import statement imports specific functions, classes, or variables from a module.\n"
      ],
      "metadata": {
        "id": "VJ8H-SUNvfvs"
      }
    },
    {
      "cell_type": "markdown",
      "source": [
        "ans 7 You can handle multiple exceptions in Python by using multiple except blocks or by using a single except block with a tuple of exception types.\n",
        "\n"
      ],
      "metadata": {
        "id": "o-2Gop1fvgyX"
      }
    },
    {
      "cell_type": "markdown",
      "source": [
        "ans 8 The with statement is used to automatically close files when you're done with them, regardless of whether an exception occurred or not. This ensures that files are properly closed and resources are released.\n"
      ],
      "metadata": {
        "id": "cB8zKW2zvjIT"
      }
    },
    {
      "cell_type": "markdown",
      "source": [
        "ans 9 Multithreading involves executing multiple threads within a single process, sharing the same memory space. Multiprocessing involves executing multiple processes, each with its own memory space."
      ],
      "metadata": {
        "id": "uVFVU8r_vlWb"
      }
    },
    {
      "cell_type": "markdown",
      "source": [
        "ans 10\n",
        "- Debugging and troubleshooting\n",
        "- Monitoring program activity\n",
        "- Auditing and security\n",
        "- Error handling and reporting\n",
        "- Improved program reliability and maintainability"
      ],
      "metadata": {
        "id": "8Sopsk90voAi"
      }
    },
    {
      "cell_type": "markdown",
      "source": [
        "ans 11 Memory management in Python refers to the process of managing the memory used by Python programs. Python uses automatic memory management through its garbage collector, which frees the developer from worrying about memory allocation and deallocation.\n"
      ],
      "metadata": {
        "id": "Rm6ERwzGwZIu"
      }
    },
    {
      "cell_type": "markdown",
      "source": [
        "ans 12 Memory management is important in Python because it helps prevent memory leaks, reduces the risk of crashes, and improves overall program performance.\n"
      ],
      "metadata": {
        "id": "xLFtNN8jwaJV"
      }
    },
    {
      "cell_type": "markdown",
      "source": [
        "ans 13\n",
        "1. Try: Enclose the code that might raise an exception in a try block.\n",
        "2. Except: Catch the exception using an except block.\n",
        "3. Handle: Handle the exception in the except block.\n",
        "4. Finally: Optionally, use a finally block to execute code regardless of whether an exception occurred.\n"
      ],
      "metadata": {
        "id": "12EI6xWDwekr"
      }
    },
    {
      "cell_type": "markdown",
      "source": [
        "ans 14 The try block encloses the code that might raise an exception, while the except block catches and handles the exception.\n"
      ],
      "metadata": {
        "id": "EzQgRUM7wfii"
      }
    },
    {
      "cell_type": "markdown",
      "source": [
        "ans 15\n",
        "1. Reference counting: Python keeps track of the number of references to each object.\n",
        "2. Cycle detection: Python detects cycles of objects that reference each other.\n",
        "3. Garbage collection: Python periodically collects and frees memory occupied by objects with no references.\n"
      ],
      "metadata": {
        "id": "vhR5g2OywkFx"
      }
    },
    {
      "cell_type": "markdown",
      "source": [
        "ans 16  The else block is used to execute code when no exception occurs in the try block.\n"
      ],
      "metadata": {
        "id": "lSsJ0CAMwndZ"
      }
    },
    {
      "cell_type": "markdown",
      "source": [
        "ans 17\n",
        "1. DEBUG: Detailed information for debugging.\n",
        "2. INFO: Informational messages.\n",
        "3. WARNING: Potential problems or unexpected events.\n",
        "4. ERROR: Errors that prevent normal program execution.\n",
        "5. CRITICAL: Critical errors that require immediate attention.\n"
      ],
      "metadata": {
        "id": "GTz6GiZcwrUI"
      }
    },
    {
      "cell_type": "markdown",
      "source": [
        "ans 18 os.fork() creates a new process by duplicating the current process, while multiprocessing creates multiple processes that can run concurrently.\n"
      ],
      "metadata": {
        "id": "R-2TKGwpwwY5"
      }
    },
    {
      "cell_type": "markdown",
      "source": [
        "ans 19\n",
        "1. Free system resources.\n",
        "2. Prevent data corruption.\n",
        "3. Allow other processes to access the file.\n"
      ],
      "metadata": {
        "id": "B-6Q4fnQw08Y"
      }
    },
    {
      "cell_type": "markdown",
      "source": [
        "ans 20 file.read() reads the entire file into a string, while file.readline() reads a single line from the file into a string."
      ],
      "metadata": {
        "id": "Ueyl9_Zzw1fy"
      }
    },
    {
      "cell_type": "markdown",
      "source": [
        "ans 21 The logging module in Python is used for recording events or messages during the execution of a program. It provides a flexible framework for logging, including different log levels, handlers, and formatters.\n"
      ],
      "metadata": {
        "id": "O528Bw6dxKYK"
      }
    },
    {
      "cell_type": "markdown",
      "source": [
        "ans 22\n",
        "- Creating and deleting directories\n",
        "- Changing the current working directory\n",
        "- Listing files and directories\n",
        "- Checking file existence and permissions\n"
      ],
      "metadata": {
        "id": "cHXfVe6nxQGG"
      }
    },
    {
      "cell_type": "markdown",
      "source": [
        "ans 23\n",
        "- Memory leaks: Unclosed resources or circular references can cause memory leaks.\n",
        "- Performance: Excessive memory allocation and deallocation can impact performance.\n",
        "- Limited control: Python's automatic memory management can limit fine-grained control over memory allocation.\n",
        "\n"
      ],
      "metadata": {
        "id": "efV3ka8YxTQ0"
      }
    },
    {
      "cell_type": "markdown",
      "source": [
        "ans 24 To raise an exception manually in Python, use the raise keyword followed by the exception type and an optional error message:\n",
        "\n",
        "\n",
        "raise ValueError(\"Invalid input\")\n"
      ],
      "metadata": {
        "id": "x_HfZcaIxWBK"
      }
    },
    {
      "cell_type": "markdown",
      "source": [
        "ans 25\n",
        "- Concurrent execution of tasks\n",
        "- Responsiveness and interactivity\n",
        "- Efficient use of system resources\n",
        "- Scalability and performance\n"
      ],
      "metadata": {
        "id": "VMYMq_U3xaUr"
      }
    },
    {
      "cell_type": "markdown",
      "source": [
        "# **Practical Questions**"
      ],
      "metadata": {
        "id": "gllo7xTRziNa"
      }
    },
    {
      "cell_type": "code",
      "source": [
        "# ans 1\n",
        "with open('example.txt', 'w') as file:\n",
        "    file.write('Hello, World!')\n"
      ],
      "metadata": {
        "id": "uPG6CDmgzoLr"
      },
      "execution_count": 28,
      "outputs": []
    },
    {
      "cell_type": "code",
      "source": [
        "# ans 2\n",
        "with open('example.txt', 'r') as file:\n",
        "    for line in file:\n",
        "        print(line.strip())\n"
      ],
      "metadata": {
        "colab": {
          "base_uri": "https://localhost:8080/"
        },
        "id": "Ea6r6s610WNl",
        "outputId": "40d1624c-1bbe-45bb-df19-5ec8f45132f5"
      },
      "execution_count": 2,
      "outputs": [
        {
          "output_type": "stream",
          "name": "stdout",
          "text": [
            "Hello, World!\n"
          ]
        }
      ]
    },
    {
      "cell_type": "code",
      "source": [
        "# ans 3\n",
        "try:\n",
        "    with open('example.txt', 'r') as file:\n",
        "        for line in file:\n",
        "            print(line.strip())\n",
        "except FileNotFoundError:\n",
        "    print('File not found.')\n"
      ],
      "metadata": {
        "colab": {
          "base_uri": "https://localhost:8080/"
        },
        "id": "QGSS8BMa0e07",
        "outputId": "9b8a8c8f-e2d0-4a05-b2fc-3f0d14a7cc8f"
      },
      "execution_count": 3,
      "outputs": [
        {
          "output_type": "stream",
          "name": "stdout",
          "text": [
            "Hello, World!\n"
          ]
        }
      ]
    },
    {
      "cell_type": "code",
      "source": [
        "# ans 4\n",
        "with open('source.txt', 'r') as source_file:\n",
        "    with open('destination.txt', 'w') as destination_file:\n",
        "        for line in source_file:\n",
        "            destination_file.write(line)\n"
      ],
      "metadata": {
        "id": "4w_UbF6b0jrg"
      },
      "execution_count": 27,
      "outputs": []
    },
    {
      "cell_type": "code",
      "source": [
        "# ans 5\n",
        "try:\n",
        "    result = 10 / 0\n",
        "except ZeroDivisionError:\n",
        "    print('Error: Division by zero is not allowed.')\n"
      ],
      "metadata": {
        "colab": {
          "base_uri": "https://localhost:8080/"
        },
        "id": "ejw15iJ90mN0",
        "outputId": "43e32924-32d7-4bd6-dd30-c66b582da097"
      },
      "execution_count": 5,
      "outputs": [
        {
          "output_type": "stream",
          "name": "stdout",
          "text": [
            "Error: Division by zero is not allowed.\n"
          ]
        }
      ]
    },
    {
      "cell_type": "code",
      "source": [
        "# ans 6\n",
        "import logging\n",
        "\n",
        "logging.basicConfig(filename='error.log', level=logging.ERROR)\n",
        "\n",
        "try:\n",
        "    result = 10 / 0\n",
        "except ZeroDivisionError:\n",
        "    logging.error('Division by zero error occurred')\n"
      ],
      "metadata": {
        "colab": {
          "base_uri": "https://localhost:8080/"
        },
        "id": "Svy8Qdm20piM",
        "outputId": "5bea0558-cc77-40bf-c000-b5999ac7eca4"
      },
      "execution_count": 6,
      "outputs": [
        {
          "output_type": "stream",
          "name": "stderr",
          "text": [
            "ERROR:root:Division by zero error occurred\n"
          ]
        }
      ]
    },
    {
      "cell_type": "code",
      "source": [
        "# ans 7\n",
        "logging.basicConfig(level=logging.DEBUG)\n",
        "\n",
        "logging.debug('This is a debug message')\n",
        "logging.info('This is an info message')\n",
        "logging.warning('This is a warning message')\n",
        "logging.error('This is an error message')\n",
        "logging.critical('This is a critical message')\n"
      ],
      "metadata": {
        "colab": {
          "base_uri": "https://localhost:8080/"
        },
        "id": "xnb-fxoR1oDq",
        "outputId": "40200fc5-376a-453b-9f46-7c1023175c3d"
      },
      "execution_count": 7,
      "outputs": [
        {
          "output_type": "stream",
          "name": "stderr",
          "text": [
            "WARNING:root:This is a warning message\n",
            "ERROR:root:This is an error message\n",
            "CRITICAL:root:This is a critical message\n"
          ]
        }
      ]
    },
    {
      "cell_type": "code",
      "source": [
        "# ans 8\n",
        "try:\n",
        "    with open('nonexistent_file.txt', 'r') as file:\n",
        "        print(file.read())\n",
        "except FileNotFoundError:\n",
        "    print('File not found')\n"
      ],
      "metadata": {
        "colab": {
          "base_uri": "https://localhost:8080/"
        },
        "id": "0DyofdHM1tKl",
        "outputId": "46915e14-c4a2-4480-e683-5781a2f35636"
      },
      "execution_count": 8,
      "outputs": [
        {
          "output_type": "stream",
          "name": "stdout",
          "text": [
            "File not found\n"
          ]
        }
      ]
    },
    {
      "cell_type": "code",
      "source": [
        "# ans 9\n",
        "with open('example.txt', 'r') as file:\n",
        "    lines = [line.strip() for line in file]\n",
        "\n",
        "print(lines)\n"
      ],
      "metadata": {
        "colab": {
          "base_uri": "https://localhost:8080/"
        },
        "id": "PbJQYCZ51vwr",
        "outputId": "7ae65154-e880-424e-d5ee-0d50276e36c6"
      },
      "execution_count": 9,
      "outputs": [
        {
          "output_type": "stream",
          "name": "stdout",
          "text": [
            "['Hello, World!']\n"
          ]
        }
      ]
    },
    {
      "cell_type": "code",
      "source": [
        "# ans 10\n",
        "with open('example.txt', 'a') as file:\n",
        "    file.write('New line appended\\n')\n"
      ],
      "metadata": {
        "id": "GuruCn6p1yhE"
      },
      "execution_count": 10,
      "outputs": []
    },
    {
      "cell_type": "code",
      "source": [
        "# ans 11\n",
        "data = {'name': 'John', 'age': 30}\n",
        "\n",
        "try:\n",
        "    print(data['city'])\n",
        "except KeyError:\n",
        "    print('Key not found')\n"
      ],
      "metadata": {
        "colab": {
          "base_uri": "https://localhost:8080/"
        },
        "id": "vHUsBRjt11KJ",
        "outputId": "3c26d725-670b-485c-843a-68e0a3739059"
      },
      "execution_count": 11,
      "outputs": [
        {
          "output_type": "stream",
          "name": "stdout",
          "text": [
            "Key not found\n"
          ]
        }
      ]
    },
    {
      "cell_type": "code",
      "source": [
        "# ans 12\n",
        "try:\n",
        "    file = open('nonexistent_file.txt', 'r')\n",
        "    data = file.read()\n",
        "    result = 10 / 0\n",
        "except FileNotFoundError:\n",
        "    print('File not found')\n",
        "except ZeroDivisionError:\n",
        "    print('Division by zero error')\n"
      ],
      "metadata": {
        "colab": {
          "base_uri": "https://localhost:8080/"
        },
        "id": "emEglbrF2C5O",
        "outputId": "a645bf09-1360-49f8-fff3-df9ee8e3a20c"
      },
      "execution_count": 12,
      "outputs": [
        {
          "output_type": "stream",
          "name": "stdout",
          "text": [
            "File not found\n"
          ]
        }
      ]
    },
    {
      "cell_type": "code",
      "source": [
        "# ans 13\n",
        "import os\n",
        "\n",
        "file_path = 'example.txt'\n",
        "if os.path.exists(file_path):\n",
        "    print('File exists')\n",
        "else:\n",
        "    print('File does not exist')\n"
      ],
      "metadata": {
        "colab": {
          "base_uri": "https://localhost:8080/"
        },
        "id": "kv7ohVHr2FwM",
        "outputId": "c7a3c97f-f784-4772-b3f2-c3eea4584f41"
      },
      "execution_count": 13,
      "outputs": [
        {
          "output_type": "stream",
          "name": "stdout",
          "text": [
            "File exists\n"
          ]
        }
      ]
    },
    {
      "cell_type": "code",
      "source": [
        "# ans 14\n",
        "logging.basicConfig(level=logging.INFO)\n",
        "\n",
        "logging.info('Program started')\n",
        "\n",
        "try:\n",
        "    result = 10 / 0\n",
        "except ZeroDivisionError:\n",
        "    logging.error('Division by zero error')\n"
      ],
      "metadata": {
        "colab": {
          "base_uri": "https://localhost:8080/"
        },
        "id": "54iwbldC2IWN",
        "outputId": "7500bddc-151f-4119-cc59-f6a969c7bb54"
      },
      "execution_count": 14,
      "outputs": [
        {
          "output_type": "stream",
          "name": "stderr",
          "text": [
            "ERROR:root:Division by zero error\n"
          ]
        }
      ]
    },
    {
      "cell_type": "code",
      "source": [
        "# ans 15\n",
        "try:\n",
        "    with open('example.txt', 'r') as file:\n",
        "        content = file.read()\n",
        "        if content:\n",
        "            print(content)\n",
        "        else:\n",
        "            print('File is empty')\n",
        "except FileNotFoundError:\n",
        "    print('File not found')\n"
      ],
      "metadata": {
        "colab": {
          "base_uri": "https://localhost:8080/"
        },
        "id": "-9fU2ry82OrG",
        "outputId": "e6f13e6f-7747-4a9c-fd3a-15d4cedad7b1"
      },
      "execution_count": 15,
      "outputs": [
        {
          "output_type": "stream",
          "name": "stdout",
          "text": [
            "Hello, World!New line appended\n",
            "\n"
          ]
        }
      ]
    },
    {
      "cell_type": "code",
      "source": [
        "pip install memory-profiler"
      ],
      "metadata": {
        "colab": {
          "base_uri": "https://localhost:8080/"
        },
        "id": "XuzESx3a2SGU",
        "outputId": "b5daa394-95ea-4218-fd2a-8107eb996d09"
      },
      "execution_count": 25,
      "outputs": [
        {
          "output_type": "stream",
          "name": "stdout",
          "text": [
            "Collecting memory-profiler\n",
            "  Downloading memory_profiler-0.61.0-py3-none-any.whl.metadata (20 kB)\n",
            "Requirement already satisfied: psutil in /usr/local/lib/python3.10/dist-packages (from memory-profiler) (5.9.5)\n",
            "Downloading memory_profiler-0.61.0-py3-none-any.whl (31 kB)\n",
            "Installing collected packages: memory-profiler\n",
            "Successfully installed memory-profiler-0.61.0\n"
          ]
        }
      ]
    },
    {
      "cell_type": "code",
      "source": [
        "# ans 16\n",
        "from memory_profiler import profile\n",
        "\n",
        "@profile\n",
        "def my_function():\n",
        "    a = [1] * (10 ** 6)\n",
        "    b = [2] * (2 * 10 ** 7)\n",
        "    del b\n",
        "    return a\n",
        "\n",
        "if __name__ == '__main__':\n",
        "    my_function()\n"
      ],
      "metadata": {
        "colab": {
          "base_uri": "https://localhost:8080/"
        },
        "id": "1MmyEDt_4f0u",
        "outputId": "5baf47ca-28d2-49e5-c9e8-53a9e2a9542c"
      },
      "execution_count": 26,
      "outputs": [
        {
          "output_type": "stream",
          "name": "stderr",
          "text": [
            "\n",
            "PYDEV DEBUGGER WARNING:\n",
            "sys.settrace() should not be used when the debugger is being used.\n",
            "This may cause the debugger to stop working correctly.\n",
            "If this is needed, please check: \n",
            "http://pydev.blogspot.com/2007/06/why-cant-pydev-debugger-work-with.html\n",
            "to see how to restore the debug tracing back correctly.\n",
            "Call Location:\n",
            "  File \"/usr/local/lib/python3.10/dist-packages/memory_profiler.py\", line 847, in enable\n",
            "    sys.settrace(self.trace_memory_usage)\n",
            "\n",
            "\n",
            "PYDEV DEBUGGER WARNING:\n",
            "sys.settrace() should not be used when the debugger is being used.\n",
            "This may cause the debugger to stop working correctly.\n",
            "If this is needed, please check: \n",
            "http://pydev.blogspot.com/2007/06/why-cant-pydev-debugger-work-with.html\n",
            "to see how to restore the debug tracing back correctly.\n",
            "Call Location:\n",
            "  File \"/usr/local/lib/python3.10/dist-packages/memory_profiler.py\", line 850, in disable\n",
            "    sys.settrace(self._original_trace_function)\n",
            "\n"
          ]
        },
        {
          "output_type": "stream",
          "name": "stdout",
          "text": [
            "ERROR: Could not find file <ipython-input-26-37c7e7abcfad>\n",
            "NOTE: %mprun can only be used on functions defined in physical files, and not in the IPython environment.\n"
          ]
        }
      ]
    },
    {
      "cell_type": "code",
      "source": [
        "# ans 17\n",
        "numbers = [1, 2, 3, 4, 5]\n",
        "\n",
        "with open('numbers.txt', 'w') as file:\n",
        "    for number in numbers:\n",
        "        file.write(str(number) + '\\n')\n"
      ],
      "metadata": {
        "id": "8HawACye2kHI"
      },
      "execution_count": 17,
      "outputs": []
    },
    {
      "cell_type": "code",
      "source": [
        "# ans 18\n",
        "import logging\n",
        "from logging.handlers import RotatingFileHandler\n",
        "\n",
        "logger = logging.getLogger()\n",
        "logger.setLevel(logging.INFO)\n",
        "\n",
        "handler = RotatingFileHandler('log.txt', maxBytes=1024*1024, backupCount=5)\n",
        "handler.setLevel(logging.INFO)\n",
        "\n",
        "formatter = logging.Formatter('%(asctime)s - %(name)s - %(levelname)s - %(message)s')\n",
        "handler.setFormatter(formatter)\n",
        "\n",
        "logger.addHandler(handler)\n",
        "\n",
        "logger.info('This is an info message')\n",
        "logger.warning('This is a warning message')\n",
        "logger.error('This is an error message')\n"
      ],
      "metadata": {
        "colab": {
          "base_uri": "https://localhost:8080/"
        },
        "id": "cs2h-L1m2rx_",
        "outputId": "3f1b4d82-3810-4a18-f4a6-0dc045799e49"
      },
      "execution_count": 18,
      "outputs": [
        {
          "output_type": "stream",
          "name": "stderr",
          "text": [
            "INFO:root:This is an info message\n",
            "WARNING:root:This is a warning message\n",
            "ERROR:root:This is an error message\n"
          ]
        }
      ]
    },
    {
      "cell_type": "code",
      "source": [
        "# ans 19\n",
        "data = {'name': 'John', 'age': 30}\n",
        "numbers = [1, 2, 3]\n",
        "\n",
        "try:\n",
        "    print(data['city'])\n",
        "    print(numbers[5])\n",
        "except (KeyError, IndexError) as e:\n",
        "    print(f'Error: {e}')\n"
      ],
      "metadata": {
        "colab": {
          "base_uri": "https://localhost:8080/"
        },
        "id": "MqRYrwAO2xaK",
        "outputId": "24803bbd-41d4-4d0d-9c25-fe8a02bf4441"
      },
      "execution_count": 19,
      "outputs": [
        {
          "output_type": "stream",
          "name": "stdout",
          "text": [
            "Error: 'city'\n"
          ]
        }
      ]
    },
    {
      "cell_type": "code",
      "source": [
        "# ans 20\n",
        "with open('example.txt', 'r') as file:\n",
        "    content = file.read()\n",
        "    print(content)\n"
      ],
      "metadata": {
        "colab": {
          "base_uri": "https://localhost:8080/"
        },
        "id": "O_LXyCgO22hm",
        "outputId": "e05ecd57-946b-497a-92b3-dda19af40487"
      },
      "execution_count": 20,
      "outputs": [
        {
          "output_type": "stream",
          "name": "stdout",
          "text": [
            "Hello, World!New line appended\n",
            "\n"
          ]
        }
      ]
    },
    {
      "cell_type": "code",
      "source": [
        "# ans 21\n",
        "def count_word_occurrences(file_name, word):\n",
        "    try:\n",
        "        with open(file_name, 'r') as file:\n",
        "            content = file.read()\n",
        "            occurrences = content.count(word)\n",
        "            print(f'The word \"{word}\" occurs {occurrences} times in the file.')\n",
        "    except FileNotFoundError:\n",
        "        print(f'File \"{file_name}\" not found.')\n",
        "\n",
        "count_word_occurrences('example.txt', 'the')\n"
      ],
      "metadata": {
        "colab": {
          "base_uri": "https://localhost:8080/"
        },
        "id": "Dw-wi_dv25f7",
        "outputId": "80114cb5-0428-4dbc-ae34-77adcd1e68b9"
      },
      "execution_count": 21,
      "outputs": [
        {
          "output_type": "stream",
          "name": "stdout",
          "text": [
            "The word \"the\" occurs 0 times in the file.\n"
          ]
        }
      ]
    },
    {
      "cell_type": "code",
      "source": [
        "# ans 22\n",
        "import os\n",
        "\n",
        "def is_file_empty(file_name):\n",
        "    return os.path.getsize(file_name) == 0\n",
        "\n",
        "file_name = 'example.txt'\n",
        "if is_file_empty(file_name):\n",
        "    print(f'File \"{file_name}\" is empty.')\n",
        "else:\n",
        "    print(f'File \"{file_name}\" is not empty.')\n"
      ],
      "metadata": {
        "colab": {
          "base_uri": "https://localhost:8080/"
        },
        "id": "8KnNhI2M3vsS",
        "outputId": "01dcd8eb-6be5-45bb-a080-f1f3537d1694"
      },
      "execution_count": 22,
      "outputs": [
        {
          "output_type": "stream",
          "name": "stdout",
          "text": [
            "File \"example.txt\" is not empty.\n"
          ]
        }
      ]
    },
    {
      "cell_type": "code",
      "source": [
        "# ans 23\n",
        "import logging\n",
        "\n",
        "logging.basicConfig(filename='file_handling.log', level=logging.ERROR)\n",
        "\n",
        "def read_file(file_name):\n",
        "    try:\n",
        "        with open(file_name, 'r') as file:\n",
        "            content = file.read()\n",
        "            print(content)\n",
        "    except FileNotFoundError:\n",
        "        logging.error(f'File \"{file_name}\" not found.')\n",
        "    except Exception as e:\n",
        "        logging.error(f'An error occurred: {e}')\n",
        "\n",
        "read_file('example.txt')\n"
      ],
      "metadata": {
        "colab": {
          "base_uri": "https://localhost:8080/"
        },
        "id": "V00XhcBB30ps",
        "outputId": "ebf8cc9d-3016-43f4-f307-09fbb956eb15"
      },
      "execution_count": 23,
      "outputs": [
        {
          "output_type": "stream",
          "name": "stdout",
          "text": [
            "Hello, World!New line appended\n",
            "\n"
          ]
        }
      ]
    },
    {
      "cell_type": "code",
      "source": [],
      "metadata": {
        "id": "S4_u3AKb34eh"
      },
      "execution_count": null,
      "outputs": []
    }
  ]
}